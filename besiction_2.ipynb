{
  "nbformat": 4,
  "nbformat_minor": 0,
  "metadata": {
    "colab": {
      "provenance": [],
      "authorship_tag": "ABX9TyON1ZhuSFKnTRWfjFdtfBbK",
      "include_colab_link": true
    },
    "kernelspec": {
      "name": "python3",
      "display_name": "Python 3"
    },
    "language_info": {
      "name": "python"
    }
  },
  "cells": [
    {
      "cell_type": "markdown",
      "metadata": {
        "id": "view-in-github",
        "colab_type": "text"
      },
      "source": [
        "<a href=\"https://colab.research.google.com/github/apocado-tek/komputasi-bisection/blob/main/besiction_2.ipynb\" target=\"_parent\"><img src=\"https://colab.research.google.com/assets/colab-badge.svg\" alt=\"Open In Colab\"/></a>"
      ]
    },
    {
      "cell_type": "code",
      "source": [
        "print (\"Masukkan nilai a,b, dan e\")\n",
        "a = float(input(\"a = \"))\n",
        "b = float(input(\"b = \"))\n",
        "e = float(input(\"e = \"))\n",
        "\n"
      ],
      "metadata": {
        "id": "BF1U7Xhh-XtS"
      },
      "execution_count": null,
      "outputs": []
    },
    {
      "cell_type": "code",
      "source": [
        "c = (a+b)/2\n",
        "print (c)\n",
        "\n",
        "fa = a*a-6*a+5\n",
        "fc = c*c-6*c+5\n",
        "print(fa)\n",
        "print(fc)\n",
        "\n",
        "if fa*fc > 0:\n",
        "    a = c\n",
        "    b = b\n",
        "else:\n",
        "    b = c\n",
        "    a = a\n",
        "\n",
        "print (a)\n",
        "print (b)\n",
        "\n",
        "if abs(fc) < e:\n",
        "    print (\"Stop\")\n",
        "else:\n",
        "    \"Continue\""
      ],
      "metadata": {
        "id": "b6KuhXOwJ7Lj"
      },
      "execution_count": null,
      "outputs": []
    }
  ]
}