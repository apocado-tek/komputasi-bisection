{
  "nbformat": 4,
  "nbformat_minor": 0,
  "metadata": {
    "colab": {
      "provenance": [],
      "include_colab_link": true
    },
    "kernelspec": {
      "name": "python3",
      "display_name": "Python 3"
    },
    "language_info": {
      "name": "python"
    }
  },
  "cells": [
    {
      "cell_type": "markdown",
      "metadata": {
        "id": "view-in-github",
        "colab_type": "text"
      },
      "source": [
        "<a href=\"https://colab.research.google.com/github/apocado-tek/komputasi-bisection/blob/main/bisection06/10/25.ipynb\" target=\"_parent\"><img src=\"https://colab.research.google.com/assets/colab-badge.svg\" alt=\"Open In Colab\"/></a>"
      ]
    },
    {
      "cell_type": "markdown",
      "source": [
        "y = x^4 + 4x -5"
      ],
      "metadata": {
        "id": "QVAVSwSW2oqw"
      }
    },
    {
      "cell_type": "code",
      "source": [
        "import numpy"
      ],
      "metadata": {
        "id": "SmYFfDkT3dqy"
      },
      "execution_count": 1,
      "outputs": []
    },
    {
      "cell_type": "code",
      "execution_count": 2,
      "metadata": {
        "id": "-GvQPGAe142H"
      },
      "outputs": [],
      "source": [
        "a=0\n",
        "b=4\n"
      ]
    },
    {
      "cell_type": "code",
      "source": [
        "c = (a+b)/4\n",
        "print(c)"
      ],
      "metadata": {
        "colab": {
          "base_uri": "https://localhost:8080/"
        },
        "id": "VJoIT1-t2-jq",
        "outputId": "72023fd5-f62c-4cb1-a5e2-925809a4264e"
      },
      "execution_count": 3,
      "outputs": [
        {
          "output_type": "stream",
          "name": "stdout",
          "text": [
            "1.0\n"
          ]
        }
      ]
    },
    {
      "cell_type": "code",
      "source": [
        "ya= a*a + 4*a - 5\n",
        "yc= c*c + 4*c - 5\n",
        "print(ya)\n",
        "print(yc)"
      ],
      "metadata": {
        "colab": {
          "base_uri": "https://localhost:8080/"
        },
        "id": "j0QZkpbe3QJI",
        "outputId": "3cb93e2a-a599-4eee-ee5e-3d1da9f937a8"
      },
      "execution_count": 4,
      "outputs": [
        {
          "output_type": "stream",
          "name": "stdout",
          "text": [
            "-5\n",
            "0.0\n"
          ]
        }
      ]
    },
    {
      "cell_type": "code",
      "source": [
        "if (ya*yc) < 0 :\n",
        "  b=c\n",
        "else:\n",
        "  a=c"
      ],
      "metadata": {
        "id": "3SHi30JZ4KfJ"
      },
      "execution_count": 5,
      "outputs": []
    }
  ]
}