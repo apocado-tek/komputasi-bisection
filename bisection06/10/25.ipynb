{
  "nbformat": 4,
  "nbformat_minor": 0,
  "metadata": {
    "colab": {
      "provenance": [],
      "include_colab_link": true
    },
    "kernelspec": {
      "name": "python3",
      "display_name": "Python 3"
    },
    "language_info": {
      "name": "python"
    }
  },
  "cells": [
    {
      "cell_type": "markdown",
      "metadata": {
        "id": "view-in-github",
        "colab_type": "text"
      },
      "source": [
        "<a href=\"https://colab.research.google.com/github/apocado-tek/komputasi-bisection/blob/main/bisection06/10/25.ipynb\" target=\"_parent\"><img src=\"https://colab.research.google.com/assets/colab-badge.svg\" alt=\"Open In Colab\"/></a>"
      ]
    },
    {
      "cell_type": "markdown",
      "source": [
        "y = x^2 + 2x -3"
      ],
      "metadata": {
        "id": "QVAVSwSW2oqw"
      }
    },
    {
      "cell_type": "code",
      "source": [
        "import numpy"
      ],
      "metadata": {
        "id": "SmYFfDkT3dqy"
      },
      "execution_count": null,
      "outputs": []
    },
    {
      "cell_type": "code",
      "execution_count": null,
      "metadata": {
        "id": "-GvQPGAe142H"
      },
      "outputs": [],
      "source": [
        "a=0\n",
        "b=2\n"
      ]
    },
    {
      "cell_type": "code",
      "source": [
        "c = (a+b)/2\n",
        "print(c)"
      ],
      "metadata": {
        "colab": {
          "base_uri": "https://localhost:8080/"
        },
        "id": "VJoIT1-t2-jq",
        "outputId": "1db6bc5a-f3fb-49e1-bdc9-e5f60e874546"
      },
      "execution_count": null,
      "outputs": [
        {
          "output_type": "stream",
          "name": "stdout",
          "text": [
            "1.0\n"
          ]
        }
      ]
    },
    {
      "cell_type": "code",
      "source": [
        "ya= a*a + 2*a - 3\n",
        "yc= c*c + 2*c - 3\n",
        "print(ya)\n",
        "print(yc)"
      ],
      "metadata": {
        "colab": {
          "base_uri": "https://localhost:8080/"
        },
        "id": "j0QZkpbe3QJI",
        "outputId": "5129246a-a885-41ea-d2e7-a4da34da0903"
      },
      "execution_count": null,
      "outputs": [
        {
          "output_type": "stream",
          "name": "stdout",
          "text": [
            "-3\n",
            "0.0\n"
          ]
        }
      ]
    },
    {
      "cell_type": "code",
      "source": [
        "if (ya*yc) < 0 :\n",
        "  b=c\n",
        "else:\n",
        "  a=c"
      ],
      "metadata": {
        "id": "3SHi30JZ4KfJ"
      },
      "execution_count": null,
      "outputs": []
    }
  ]
}